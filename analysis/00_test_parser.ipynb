{
 "cells": [
  {
   "cell_type": "code",
   "execution_count": 17,
   "metadata": {},
   "outputs": [],
   "source": [
    "buffer = [0xF8, 0, 0, 0x90, 36, 127, 0, 0xf8, 0, 0x80, 36, 127, 0xF8, 0, 0, 0, 0, 0, 0, 0]\n",
    "# buffer = [0xF8, 0, 0, 0x90, 36, 127, 0, 0xf8, 0, 0x80, 36, 0xF8, 0x90]\n",
    "\n",
    "read_ptr = 0\n",
    "write_ptr = 13"
   ]
  },
  {
   "cell_type": "code",
   "execution_count": null,
   "metadata": {},
   "outputs": [],
   "source": [
    "clock\n",
    "invalid\n",
    "invalid\n",
    "90, 36, 127\n",
    "invalid\n",
    "clock\n",
    "invalid\n",
    "80 36 127\n",
    "clock"
   ]
  },
  {
   "cell_type": "code",
   "execution_count": 20,
   "metadata": {},
   "outputs": [],
   "source": [
    "def parse(buff):\n",
    "    global read_ptr\n",
    "    bsize = (write_ptr - read_ptr + 20) % 20\n",
    "    while bsize != 0:\n",
    "        status = buff[read_ptr]\n",
    "        if (status == 0x90 or status == 0x80):\n",
    "            if (bsize < 3):\n",
    "                return False\n",
    "            print(f\"status = {status}, note = {buff[(read_ptr + 1) % 20]}, velocity = {buff[(read_ptr + 2) % 20]}\")\n",
    "            read_ptr = (read_ptr + 3) % 20\n",
    "        \n",
    "        if (status == 0xF8):\n",
    "            print(\"clock\")\n",
    "            read_ptr = (read_ptr + 1) % 20\n",
    "        if (status == 0xFA):\n",
    "            print(\"start\")\n",
    "            read_ptr = (read_ptr + 1) % 20\n",
    "        if (status == 0xFC):\n",
    "            print(\"stop\")\n",
    "            read_ptr = (read_ptr + 1) % 20\n",
    "        if (status == 0x0):\n",
    "            print(\"invalid\")\n",
    "            read_ptr = (read_ptr + 1) % 20\n",
    "            \n",
    "        bsize = (write_ptr - read_ptr + 20) % 20\n",
    "    return False\n",
    "\n",
    "\n"
   ]
  },
  {
   "cell_type": "code",
   "execution_count": 21,
   "metadata": {},
   "outputs": [
    {
     "name": "stdout",
     "output_type": "stream",
     "text": [
      "invalid\n",
      "clock\n",
      "invalid\n",
      "invalid\n",
      "status = 144, note = 36, velocity = 127\n",
      "invalid\n",
      "clock\n",
      "invalid\n",
      "status = 128, note = 36, velocity = 127\n",
      "clock\n"
     ]
    },
    {
     "data": {
      "text/plain": [
       "False"
      ]
     },
     "execution_count": 21,
     "metadata": {},
     "output_type": "execute_result"
    }
   ],
   "source": [
    "parse(buffer)\n",
    "\n",
    "# clock\n",
    "# invalid\n",
    "# invalid\n",
    "# 90, 36, 127\n",
    "# invalid\n",
    "# clock\n",
    "# invalid\n",
    "# 80 36 127\n",
    "# clock"
   ]
  },
  {
   "cell_type": "code",
   "execution_count": null,
   "metadata": {},
   "outputs": [],
   "source": []
  }
 ],
 "metadata": {
  "kernelspec": {
   "display_name": "Python 3",
   "language": "python",
   "name": "python3"
  },
  "language_info": {
   "codemirror_mode": {
    "name": "ipython",
    "version": 3
   },
   "file_extension": ".py",
   "mimetype": "text/x-python",
   "name": "python",
   "nbconvert_exporter": "python",
   "pygments_lexer": "ipython3",
   "version": "3.12.5"
  }
 },
 "nbformat": 4,
 "nbformat_minor": 2
}
